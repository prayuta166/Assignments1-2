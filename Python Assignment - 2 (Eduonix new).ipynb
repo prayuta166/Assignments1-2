{
 "cells": [
  {
   "cell_type": "code",
   "execution_count": null,
   "id": "5e62e1ec",
   "metadata": {},
   "outputs": [],
   "source": [
    "Python Assignment - 2"
   ]
  },
  {
   "cell_type": "code",
   "execution_count": 1,
   "id": "95c5799e",
   "metadata": {},
   "outputs": [
    {
     "ename": "SyntaxError",
     "evalue": "invalid syntax (1107414874.py, line 7)",
     "output_type": "error",
     "traceback": [
      "\u001b[1;36m  Cell \u001b[1;32mIn[1], line 7\u001b[1;36m\u001b[0m\n\u001b[1;33m    How will you remove last object from a list? Suppose list1 is [2, 33, 222, 14, and 25], what is list1 [-1]?\u001b[0m\n\u001b[1;37m        ^\u001b[0m\n\u001b[1;31mSyntaxError\u001b[0m\u001b[1;31m:\u001b[0m invalid syntax\n"
     ]
    }
   ],
   "source": [
    "What is List? How will you reverse a list?\n",
    "[ ]\n",
    "\n",
    "How will you compare two lists?\n",
    "[ ]\n",
    "\n",
    "How will you remove last object from a list? Suppose list1 is [2, 33, 222, 14, and 25], what is list1 [-1]?\n",
    "[ ]\n",
    "\n",
    "Differentiate between append () and extend () methods?\n",
    "[ ]\n",
    "\n",
    "Write a Python program to find the second smallest number in a list.\n",
    "[ ]\n",
    "\n",
    "Write a Python program to find the length of a tuple.\n",
    "[ ]\n",
    "\n",
    "Write a Python program to reverse a tuple.\n",
    "[ ]\n",
    "\n",
    "[ ]\n",
    "\n",
    "Write a Python program to remove duplicates from a list.\n",
    "[ ]\n",
    "\n",
    "Write a Python function that takes a list and returns a new list with unique elements of the first list.\n",
    "[ ]\n",
    "\n",
    "Write a Python program to check a list is empty or not.\n",
    "[ ]\n",
    "\n",
    "Write a Python function to get the largest number, smallest num and sum of all from a list.\n",
    "[ ]\n",
    "\n",
    "Write a Python program to get unique values from a list\n",
    "[ ]\n",
    "\n",
    "Write a Python program to split a list into different variables.\n",
    "[ ]\n",
    "\n",
    "Write a Python program to check whether an element exists within a tuple\n",
    "[ ]\n",
    "\n",
    "Write a Python program to convert a list to a tuple.\n",
    "[ ]\n",
    "\n",
    "Write a Python program to find the repeated items of a tuple.\n",
    "[ ]\n",
    "\n",
    "Write a Python program to remove an empty tuple(s) from a list of tuples\n",
    "[ ]\n",
    "\n",
    "Write a Python program to unzip a list of tuples into individual lists.\n",
    "[ ]\n",
    "\n",
    "Write a Python function to check whether a number is in a given range\n",
    "[ ]\n",
    "\n",
    "Write a Python function that checks whether a passed string is palindrome or not\n",
    "[ ]\n",
    "\n",
    "Write a Python program to returns sum of all divisors of a number\n",
    "[ ]\n",
    "\n",
    "Write a Python program to find the maximum and minimum numbers from the specified decimal numbers.\n",
    "[ ]\n",
    "\n",
    "Write a Python program to calculate the area of a parallelogram\n",
    "[ ]\n",
    "\n",
    "Write a Python function to check whether a number is perfect or not.\n",
    "[ ]\n",
    "\n",
    "Write a Python program to convert degree to radian\n",
    "[ ]\n",
    "\n",
    "Write a Python program to calculate the area of a trapezoid\n",
    "[ ]\n",
    "\n",
    "Write a Python program to calculate surface volume and area of a cylinder\n",
    "[ ]\n",
    "[ ]\n",
    "Colab paid products - Cancel contracts here\n"
   ]
  },
  {
   "cell_type": "markdown",
   "id": "f6ee3961",
   "metadata": {},
   "source": [
    "What is List? How will you reverse a list?"
   ]
  },
  {
   "cell_type": "code",
   "execution_count": 2,
   "id": "04f07c2d",
   "metadata": {},
   "outputs": [
    {
     "name": "stdout",
     "output_type": "stream",
     "text": [
      "[0, 8, 6, 4, 2]\n"
     ]
    }
   ],
   "source": [
    "my_numbers = [2, 4, 6, 8, 0]\n",
    "my_numbers.reverse()\n",
    "print(my_numbers)"
   ]
  },
  {
   "cell_type": "markdown",
   "id": "8cb4663a",
   "metadata": {},
   "source": [
    "How will you compare two lists?"
   ]
  },
  {
   "cell_type": "code",
   "execution_count": 1,
   "id": "adbbf883",
   "metadata": {},
   "outputs": [
    {
     "name": "stdout",
     "output_type": "stream",
     "text": [
      "True\n"
     ]
    }
   ],
   "source": [
    "list1 = [1,2,3,4,5]\n",
    "list2 = [1,2,3,4,5]\n",
    "print(list1 == list2)"
   ]
  },
  {
   "cell_type": "code",
   "execution_count": 2,
   "id": "133c1922",
   "metadata": {},
   "outputs": [
    {
     "name": "stdout",
     "output_type": "stream",
     "text": [
      "False\n"
     ]
    }
   ],
   "source": [
    "list1 = [1,3,5,7,9]\n",
    "list2 = [2,4,6,8,10]\n",
    "print(list1 == list2)"
   ]
  },
  {
   "cell_type": "markdown",
   "id": "6784fffa",
   "metadata": {},
   "source": [
    "How will you remove last object from a list? Suppose list1 is [2, 33, 222, 14, and 25], what is list1 [-1]?\n"
   ]
  },
  {
   "cell_type": "code",
   "execution_count": 11,
   "id": "4ca6d9a0",
   "metadata": {},
   "outputs": [],
   "source": [
    "list1 = [2,33,222,14,25]"
   ]
  },
  {
   "cell_type": "code",
   "execution_count": 13,
   "id": "47aa1d67",
   "metadata": {},
   "outputs": [],
   "source": [
    "list1.remove(14)"
   ]
  },
  {
   "cell_type": "code",
   "execution_count": 14,
   "id": "84f77aee",
   "metadata": {},
   "outputs": [
    {
     "name": "stdout",
     "output_type": "stream",
     "text": [
      "[2, 33, 222, 25]\n"
     ]
    }
   ],
   "source": [
    "print(list1)"
   ]
  },
  {
   "cell_type": "markdown",
   "id": "bf4b5743",
   "metadata": {},
   "source": [
    "Differentiate between append () and extend () methods?"
   ]
  },
  {
   "cell_type": "code",
   "execution_count": 15,
   "id": "bfa52537",
   "metadata": {},
   "outputs": [],
   "source": [
    "list1 = [1,2,3,4,5]"
   ]
  },
  {
   "cell_type": "code",
   "execution_count": 16,
   "id": "7a0def06",
   "metadata": {},
   "outputs": [],
   "source": [
    "list1.append(6,)"
   ]
  },
  {
   "cell_type": "code",
   "execution_count": 18,
   "id": "de54089e",
   "metadata": {},
   "outputs": [
    {
     "name": "stdout",
     "output_type": "stream",
     "text": [
      "[1, 2, 3, 4, 5, 6]\n"
     ]
    }
   ],
   "source": [
    "print(list1)"
   ]
  },
  {
   "cell_type": "code",
   "execution_count": 19,
   "id": "202665eb",
   "metadata": {},
   "outputs": [],
   "source": [
    "list2 = [7,8,9,10]"
   ]
  },
  {
   "cell_type": "code",
   "execution_count": 21,
   "id": "4533f872",
   "metadata": {},
   "outputs": [],
   "source": [
    "list3 = [11,12,13,14]"
   ]
  },
  {
   "cell_type": "code",
   "execution_count": 22,
   "id": "860dd149",
   "metadata": {},
   "outputs": [
    {
     "name": "stdout",
     "output_type": "stream",
     "text": [
      "[7, 8, 9, 10, 11, 12, 13, 14]\n"
     ]
    }
   ],
   "source": [
    "list2.extend(list3)\n",
    "print(list2)"
   ]
  },
  {
   "cell_type": "code",
   "execution_count": 23,
   "id": "d04f6c52",
   "metadata": {},
   "outputs": [],
   "source": [
    "x = [1,2,3]"
   ]
  },
  {
   "cell_type": "code",
   "execution_count": 24,
   "id": "0dc4cc57",
   "metadata": {},
   "outputs": [],
   "source": [
    "y = [4,5,6]"
   ]
  },
  {
   "cell_type": "code",
   "execution_count": 26,
   "id": "329de11a",
   "metadata": {},
   "outputs": [
    {
     "name": "stdout",
     "output_type": "stream",
     "text": [
      "[1, 2, 3, 4, 5, 6]\n"
     ]
    }
   ],
   "source": [
    "x.extend(y)\n",
    "print(x)"
   ]
  },
  {
   "cell_type": "markdown",
   "id": "b75ecb44",
   "metadata": {},
   "source": [
    "Write a Python program to find the second smallest number in a list."
   ]
  },
  {
   "cell_type": "code",
   "execution_count": 27,
   "id": "d643c7ba",
   "metadata": {},
   "outputs": [],
   "source": [
    "list1 = [12,45,2,41,31]"
   ]
  },
  {
   "cell_type": "code",
   "execution_count": 6,
   "id": "959fa09b",
   "metadata": {},
   "outputs": [],
   "source": [
    "def sec_num(numbers):\n",
    "    x1 = x2 = float('inf')\n",
    "    for i in numbers:\n",
    "        if i<= x1:\n",
    "            x1,x2=i,x1\n",
    "        elif i<x2:\n",
    "            x2 = i\n",
    "    return x2        \n",
    "    "
   ]
  },
  {
   "cell_type": "code",
   "execution_count": 7,
   "id": "0c2631b5",
   "metadata": {},
   "outputs": [
    {
     "data": {
      "text/plain": [
       "5"
      ]
     },
     "execution_count": 7,
     "metadata": {},
     "output_type": "execute_result"
    }
   ],
   "source": [
    "sec_num([2,5,6,12,20,34])"
   ]
  },
  {
   "cell_type": "markdown",
   "id": "03618959",
   "metadata": {},
   "source": [
    "Write a Python program to find the length of a tuple.\n"
   ]
  },
  {
   "cell_type": "code",
   "execution_count": 8,
   "id": "7949211e",
   "metadata": {},
   "outputs": [
    {
     "name": "stdout",
     "output_type": "stream",
     "text": [
      "4\n"
     ]
    }
   ],
   "source": [
    "tuple = (234, 135, 85, 15)\n",
    "print(len(tuple))"
   ]
  },
  {
   "cell_type": "markdown",
   "id": "c4b5b97a",
   "metadata": {},
   "source": [
    "Write a Python program to reverse a tuple."
   ]
  },
  {
   "cell_type": "code",
   "execution_count": 37,
   "id": "3d0a5a3b",
   "metadata": {},
   "outputs": [],
   "source": [
    "tuple = (2,4,6,8,10)"
   ]
  },
  {
   "cell_type": "code",
   "execution_count": 38,
   "id": "7e4e764f",
   "metadata": {},
   "outputs": [],
   "source": [
    "def reverse(tuple):\n",
    "    new_tup = tuple[::-1]\n",
    "    return new_tup"
   ]
  },
  {
   "cell_type": "code",
   "execution_count": 39,
   "id": "9cc5b62b",
   "metadata": {},
   "outputs": [],
   "source": [
    "tuple = (1,3,5,7,9)"
   ]
  },
  {
   "cell_type": "code",
   "execution_count": 40,
   "id": "65bbda36",
   "metadata": {},
   "outputs": [
    {
     "name": "stdout",
     "output_type": "stream",
     "text": [
      "(9, 7, 5, 3, 1)\n"
     ]
    }
   ],
   "source": [
    "print(reverse(tuple))"
   ]
  },
  {
   "cell_type": "code",
   "execution_count": 41,
   "id": "a3795465",
   "metadata": {},
   "outputs": [],
   "source": [
    "tuples = (1,2,3,4,5)"
   ]
  },
  {
   "cell_type": "code",
   "execution_count": null,
   "id": "4a413cd1",
   "metadata": {},
   "outputs": [],
   "source": [
    "tuple = tuples[::-1]"
   ]
  },
  {
   "cell_type": "code",
   "execution_count": 43,
   "id": "02b104e6",
   "metadata": {},
   "outputs": [
    {
     "name": "stdout",
     "output_type": "stream",
     "text": [
      "(5, 4, 3, 2, 1)\n"
     ]
    }
   ],
   "source": [
    "print(reverse(tuples))"
   ]
  },
  {
   "cell_type": "markdown",
   "id": "ca62baae",
   "metadata": {},
   "source": [
    "Write a Python program to remove duplicates from a list."
   ]
  },
  {
   "cell_type": "code",
   "execution_count": 44,
   "id": "eca1d97b",
   "metadata": {},
   "outputs": [],
   "source": [
    "list = [1,1,2,3,2,3,4,5]"
   ]
  },
  {
   "cell_type": "code",
   "execution_count": 45,
   "id": "c5b197fc",
   "metadata": {},
   "outputs": [
    {
     "data": {
      "text/plain": [
       "{1, 2, 3, 4, 5}"
      ]
     },
     "execution_count": 45,
     "metadata": {},
     "output_type": "execute_result"
    }
   ],
   "source": [
    "set(list)"
   ]
  },
  {
   "cell_type": "markdown",
   "id": "c42ed7f8",
   "metadata": {},
   "source": [
    "Write a Python function that takes a list and returns a new list with unique elements of the first list."
   ]
  },
  {
   "cell_type": "code",
   "execution_count": 15,
   "id": "a74f54ae",
   "metadata": {},
   "outputs": [
    {
     "name": "stdout",
     "output_type": "stream",
     "text": [
      "original list :  [1, 2, 2, 3, 1, 4, 5]\n",
      "list of unique elements:  [1, 2, 3, 4, 5]\n"
     ]
    }
   ],
   "source": [
    "my_list = [1,2,2,3,1,4,5]\n",
    "print(\"original list : \",my_list)\n",
    "my_set = set(my_list)\n",
    "my_new_list = list(my_set)\n",
    "print(\"list of unique elements: \",my_new_list)"
   ]
  },
  {
   "cell_type": "markdown",
   "id": "c1e31c09",
   "metadata": {},
   "source": [
    "Write a Python program to check a list is empty or not."
   ]
  },
  {
   "cell_type": "code",
   "execution_count": 54,
   "id": "0d24c476",
   "metadata": {},
   "outputs": [
    {
     "name": "stdout",
     "output_type": "stream",
     "text": [
      "the list is empty\n"
     ]
    }
   ],
   "source": [
    "def enquiry(list1):\n",
    "    if not list1:\n",
    "        return 1\n",
    "    else:\n",
    "        return 0\n",
    "        \n",
    "list1 = []\n",
    "if enquiry(list1):\n",
    "    print(\"the list is empty\")\n",
    "else:\n",
    "    print(\"this is not empty\")"
   ]
  },
  {
   "cell_type": "markdown",
   "id": "74d42323",
   "metadata": {},
   "source": [
    "Write a Python function to get the largest number, smallest num and sum of all from a list.\n"
   ]
  },
  {
   "cell_type": "code",
   "execution_count": 1,
   "id": "1e84f958",
   "metadata": {},
   "outputs": [
    {
     "name": "stdout",
     "output_type": "stream",
     "text": [
      "how many elements to put in the list: 5\n",
      "enter element 10\n",
      "maximum element in the list is: 99\n",
      "minimum element in the list is: 10\n",
      "enter element 25\n",
      "maximum element in the list is: 99\n",
      "minimum element in the list is: 10\n",
      "enter element 40\n",
      "maximum element in the list is: 99\n",
      "minimum element in the list is: 10\n",
      "enter element 80\n",
      "maximum element in the list is: 99\n",
      "minimum element in the list is: 10\n",
      "enter element 99\n",
      "maximum element in the list is: 99\n",
      "minimum element in the list is: 10\n"
     ]
    }
   ],
   "source": [
    "mylist = [10,25,40,80,99]\n",
    "number = int(input('how many elements to put in the list: '))\n",
    "for n in range(number):\n",
    "    element = int(input('enter element '))\n",
    "    mylist.append(element)\n",
    "    print(\"maximum element in the list is:\", max(mylist))\n",
    "    print(\"minimum element in the list is:\", min(mylist))"
   ]
  },
  {
   "cell_type": "markdown",
   "id": "16519935",
   "metadata": {},
   "source": [
    "Write a Python program to get unique values from a list"
   ]
  },
  {
   "cell_type": "code",
   "execution_count": 55,
   "id": "2c000e39",
   "metadata": {},
   "outputs": [],
   "source": [
    "my_list = [5,10,15,5,15,10,20,30,20,40]"
   ]
  },
  {
   "cell_type": "code",
   "execution_count": 56,
   "id": "09e93714",
   "metadata": {},
   "outputs": [
    {
     "data": {
      "text/plain": [
       "{5, 10, 15, 20, 30, 40}"
      ]
     },
     "execution_count": 56,
     "metadata": {},
     "output_type": "execute_result"
    }
   ],
   "source": [
    "set(my_list)"
   ]
  },
  {
   "cell_type": "markdown",
   "id": "49c8f43c",
   "metadata": {},
   "source": [
    "Write a Python program to split a list into different variables."
   ]
  },
  {
   "cell_type": "code",
   "execution_count": 23,
   "id": "84992b1c",
   "metadata": {},
   "outputs": [
    {
     "name": "stdout",
     "output_type": "stream",
     "text": [
      "('yes', 'no')\n",
      "('notes', 'books')\n",
      "('letters', 'numbers')\n"
     ]
    }
   ],
   "source": [
    "my_list = [('yes','no'), ('notes','books'), ('letters','numbers')]\n",
    "var1, var2 ,var3 = my_list\n",
    "print(var1)\n",
    "print(var2)\n",
    "print(var3)"
   ]
  },
  {
   "cell_type": "markdown",
   "id": "9fed2521",
   "metadata": {},
   "source": [
    "Write a Python program to check whether an element exists within a tuple"
   ]
  },
  {
   "cell_type": "code",
   "execution_count": 24,
   "id": "2395a8c9",
   "metadata": {},
   "outputs": [
    {
     "name": "stdout",
     "output_type": "stream",
     "text": [
      "True\n",
      "False\n",
      "True\n"
     ]
    }
   ],
   "source": [
    "t = ('a', '2', 'p', '10', 'b')\n",
    "print('2' in t)\n",
    "print('15' in t)\n",
    "print('p' in t)"
   ]
  },
  {
   "cell_type": "markdown",
   "id": "8a421702",
   "metadata": {},
   "source": [
    "Write a Python program to convert a list to a tuple."
   ]
  },
  {
   "cell_type": "code",
   "execution_count": 62,
   "id": "75895a2c",
   "metadata": {},
   "outputs": [],
   "source": [
    "my_list = ['python','java','machine learning','cloud','testing']\n",
    "tuples = (*my_list,)"
   ]
  },
  {
   "cell_type": "code",
   "execution_count": 63,
   "id": "083b9503",
   "metadata": {},
   "outputs": [
    {
     "name": "stdout",
     "output_type": "stream",
     "text": [
      "('python', 'java', 'machine learning', 'cloud', 'testing')\n"
     ]
    }
   ],
   "source": [
    "print(tuples)"
   ]
  },
  {
   "cell_type": "code",
   "execution_count": 66,
   "id": "9a556c01",
   "metadata": {},
   "outputs": [],
   "source": [
    "my_list = [10,20,30,40]\n",
    "tuples = (*my_list,)"
   ]
  },
  {
   "cell_type": "code",
   "execution_count": 67,
   "id": "e297b178",
   "metadata": {},
   "outputs": [
    {
     "name": "stdout",
     "output_type": "stream",
     "text": [
      "(10, 20, 30, 40)\n"
     ]
    }
   ],
   "source": [
    "print(tuples)"
   ]
  },
  {
   "cell_type": "markdown",
   "id": "e96b7c4a",
   "metadata": {},
   "source": [
    "Write a Python program to find the repeated items of a tuple."
   ]
  },
  {
   "cell_type": "code",
   "execution_count": 2,
   "id": "bbc70044",
   "metadata": {},
   "outputs": [
    {
     "name": "stdout",
     "output_type": "stream",
     "text": [
      "<class 'tuple'>\n",
      "2\n"
     ]
    }
   ],
   "source": [
    "tuples = (2,4,3,6,2,4,3)\n",
    "print(tuple)\n",
    "count = tuples.count(3)\n",
    "print(count)"
   ]
  },
  {
   "cell_type": "markdown",
   "id": "de23b2be",
   "metadata": {},
   "source": [
    "Write a Python program to remove an empty tuple(s) from a list of tuples"
   ]
  },
  {
   "cell_type": "code",
   "execution_count": 3,
   "id": "12e7ba20",
   "metadata": {},
   "outputs": [],
   "source": [
    "def remove(tuples):\n",
    "    tuples = [t for t in tuples if t]\n",
    "    return tuples"
   ]
  },
  {
   "cell_type": "code",
   "execution_count": 6,
   "id": "130c226b",
   "metadata": {},
   "outputs": [],
   "source": [
    "tuples = [(), ('6' ,'june' ,'16'), (), ('ram' , 'sham'), (), ('aman' , '18')]"
   ]
  },
  {
   "cell_type": "code",
   "execution_count": 7,
   "id": "1b98e7ca",
   "metadata": {},
   "outputs": [
    {
     "name": "stdout",
     "output_type": "stream",
     "text": [
      "[('6', 'june', '16'), ('ram', 'sham'), ('aman', '18')]\n"
     ]
    }
   ],
   "source": [
    "print(remove(tuples))"
   ]
  },
  {
   "cell_type": "markdown",
   "id": "aa07d376",
   "metadata": {},
   "source": [
    "Write a Python program to unzip a list of tuples into individual lists."
   ]
  },
  {
   "cell_type": "code",
   "execution_count": 8,
   "id": "6d65f23f",
   "metadata": {},
   "outputs": [],
   "source": [
    "l = [(1,3), (4,5), (2,8)]"
   ]
  },
  {
   "cell_type": "code",
   "execution_count": 9,
   "id": "bc82e986",
   "metadata": {},
   "outputs": [
    {
     "name": "stdout",
     "output_type": "stream",
     "text": [
      "[(1, 4, 2), (3, 5, 8)]\n"
     ]
    }
   ],
   "source": [
    "print(list(zip(*l)))"
   ]
  },
  {
   "cell_type": "markdown",
   "id": "82f8a948",
   "metadata": {},
   "source": [
    "Write a Python function to check whether a number is in a given range"
   ]
  },
  {
   "cell_type": "code",
   "execution_count": 28,
   "id": "a0468a40",
   "metadata": {},
   "outputs": [],
   "source": [
    "def test_range(n):\n",
    "    if n in range(10,20):\n",
    "        print(\"number %s is in range\"%str(n))\n",
    "    else:\n",
    "        print(\"the number is outside the given range.\")"
   ]
  },
  {
   "cell_type": "code",
   "execution_count": 29,
   "id": "44d11b67",
   "metadata": {},
   "outputs": [
    {
     "name": "stdout",
     "output_type": "stream",
     "text": [
      "number 15 is in range\n"
     ]
    }
   ],
   "source": [
    "test_range(15)"
   ]
  },
  {
   "cell_type": "code",
   "execution_count": 30,
   "id": "f9561106",
   "metadata": {},
   "outputs": [
    {
     "name": "stdout",
     "output_type": "stream",
     "text": [
      "the number is outside the given range.\n",
      "number 15 is in range\n"
     ]
    }
   ],
   "source": [
    "test_range(35)"
   ]
  },
  {
   "cell_type": "markdown",
   "id": "776c6dbc",
   "metadata": {},
   "source": [
    "Write a Python function that checks whether a passed string is palindrome or not"
   ]
  },
  {
   "cell_type": "code",
   "execution_count": null,
   "id": "79e0f01a",
   "metadata": {},
   "outputs": [],
   "source": [
    "s =  \"coding\""
   ]
  },
  {
   "cell_type": "code",
   "execution_count": null,
   "id": "1f773aa9",
   "metadata": {},
   "outputs": [],
   "source": [
    "x = \"english\""
   ]
  },
  {
   "cell_type": "markdown",
   "id": "6d6d16b0",
   "metadata": {},
   "source": [
    "Write a Python program to returns sum of all divisors of a number"
   ]
  },
  {
   "cell_type": "code",
   "execution_count": 18,
   "id": "f7a1cfe3",
   "metadata": {},
   "outputs": [
    {
     "name": "stdout",
     "output_type": "stream",
     "text": [
      "enter the number :12\n",
      "sum of all divisors : 3\n",
      "sum of all divisors : 6\n",
      "sum of all divisors : 10\n",
      "sum of all divisors : 16\n"
     ]
    }
   ],
   "source": [
    "num = int(input(\"enter the number :\"))\n",
    "div = [1]\n",
    "for i in range(2, num):\n",
    "    if (num % i)==0:\n",
    "        div.append(i)\n",
    "        print(\"sum of all divisors :\",sum(div))"
   ]
  },
  {
   "cell_type": "markdown",
   "id": "aa511670",
   "metadata": {},
   "source": [
    "Write a Python program to find the maximum and minimum numbers from the specified decimal numbers."
   ]
  },
  {
   "cell_type": "code",
   "execution_count": 19,
   "id": "c60dc11d",
   "metadata": {},
   "outputs": [
    {
     "name": "stdout",
     "output_type": "stream",
     "text": [
      "enter the multiple decimal points comma separate...\n",
      "23.5,48.20,1,50,89.30,0.34\n",
      "maximum:  89.30\n",
      "minimum:  0.34\n"
     ]
    }
   ],
   "source": [
    "print(\"enter the multiple decimal points comma separate...\")\n",
    "dec = input(\"\").split(\",\")\n",
    "print(\"maximum: \", max(dec))\n",
    "print(\"minimum: \", min(dec))"
   ]
  },
  {
   "cell_type": "markdown",
   "id": "ff01769f",
   "metadata": {},
   "source": [
    "Write a Python program to calculate the area of a parallelogram"
   ]
  },
  {
   "cell_type": "code",
   "execution_count": 3,
   "id": "94811be8",
   "metadata": {},
   "outputs": [
    {
     "name": "stdout",
     "output_type": "stream",
     "text": [
      "length of base: 6\n",
      "measurement of height: 8\n",
      "area is:  48.0\n"
     ]
    }
   ],
   "source": [
    "base = float(input('length of base: '))\n",
    "height = float(input('measurement of height: '))\n",
    "area = base * height\n",
    "print('area is: ', area)"
   ]
  },
  {
   "cell_type": "markdown",
   "id": "69831138",
   "metadata": {},
   "source": [
    "Write a Python function to check whether a number is perfect or not.\n"
   ]
  },
  {
   "cell_type": "code",
   "execution_count": 13,
   "id": "44c77644",
   "metadata": {},
   "outputs": [
    {
     "name": "stdout",
     "output_type": "stream",
     "text": [
      "208\n",
      "the number is not a perfect number!\n",
      "the number is not a perfect number!\n",
      "the number is not a perfect number!\n",
      "the number is not a perfect number!\n",
      "the number is not a perfect number!\n",
      "the number is not a perfect number!\n",
      "the number is not a perfect number!\n"
     ]
    }
   ],
   "source": [
    "n = int(input(\"20\"))\n",
    "sum1 = 0\n",
    "for i in range(1, n):\n",
    "    if(n % i == 0):\n",
    "        sum1 = sum1 + i\n",
    "    if (sum1 == n):\n",
    "        print(\"the number is a perfect number!\")\n",
    "    else:\n",
    "        print(\"the number is not a perfect number!\")\n",
    "            "
   ]
  },
  {
   "cell_type": "markdown",
   "id": "c20488b0",
   "metadata": {},
   "source": [
    "Write a Python program to convert degree to radian\n"
   ]
  },
  {
   "cell_type": "code",
   "execution_count": 72,
   "id": "f6612c8b",
   "metadata": {},
   "outputs": [
    {
     "name": "stdout",
     "output_type": "stream",
     "text": [
      "input degrees: 24\n",
      "0.41904761904761906\n"
     ]
    }
   ],
   "source": [
    "degree = float(input(\"input degrees: \"))\n",
    "radian = degree*(22/7/180)\n",
    "print(radian)"
   ]
  },
  {
   "cell_type": "markdown",
   "id": "e8756781",
   "metadata": {},
   "source": [
    "Write a Python program to calculate the area of a trapezoid"
   ]
  },
  {
   "cell_type": "code",
   "execution_count": 78,
   "id": "b812ff51",
   "metadata": {},
   "outputs": [
    {
     "name": "stdout",
     "output_type": "stream",
     "text": [
      "height of trapezoid: 10\n",
      "base one value: 20\n",
      "base two value: 15\n",
      "area is: 175.0\n"
     ]
    }
   ],
   "source": [
    "base_1 = 5\n",
    "base_2 = 6\n",
    "height = float(input(\"height of trapezoid: \"))\n",
    "base_1 = float(input('base one value: '))\n",
    "base_2 = float(input('base two value: '))\n",
    "area = ((base_1 + base_2) / 2) * height\n",
    "print(\"area is:\", area)"
   ]
  },
  {
   "cell_type": "markdown",
   "id": "9312b08c",
   "metadata": {},
   "source": [
    "Write a Python program to calculate surface volume and area of a cylinder"
   ]
  },
  {
   "cell_type": "code",
   "execution_count": 83,
   "id": "ae16052b",
   "metadata": {},
   "outputs": [
    {
     "name": "stdout",
     "output_type": "stream",
     "text": [
      "height of cylinder4\n",
      "radius of cylinder6\n",
      "volume is:  700.4081632653061\n",
      "surface area is:  200.0\n"
     ]
    }
   ],
   "source": [
    "pi = 22/7\n",
    "height = float(input('height of cylinder'))\n",
    "radian = float(input('radius of cylinder'))\n",
    "volume = pi * ((2*pi*radian) * height) + ((pi*radian**2)*2)\n",
    "print(\"volume is: \", volume)\n",
    "print(\"surface area is: \", area)"
   ]
  }
 ],
 "metadata": {
  "kernelspec": {
   "display_name": "Python 3 (ipykernel)",
   "language": "python",
   "name": "python3"
  },
  "language_info": {
   "codemirror_mode": {
    "name": "ipython",
    "version": 3
   },
   "file_extension": ".py",
   "mimetype": "text/x-python",
   "name": "python",
   "nbconvert_exporter": "python",
   "pygments_lexer": "ipython3",
   "version": "3.11.4"
  }
 },
 "nbformat": 4,
 "nbformat_minor": 5
}
