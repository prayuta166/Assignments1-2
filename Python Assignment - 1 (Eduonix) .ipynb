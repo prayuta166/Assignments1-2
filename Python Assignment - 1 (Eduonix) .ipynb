{
 "cells": [
  {
   "cell_type": "markdown",
   "id": "1b1f7c08",
   "metadata": {},
   "source": [
    "Python Assighment - 1"
   ]
  },
  {
   "cell_type": "markdown",
   "id": "eca02769",
   "metadata": {},
   "source": [
    "1.Write a Python program to sum of three given integers. However, if two values are equal sum will be zero.\n"
   ]
  },
  {
   "cell_type": "code",
   "execution_count": 3,
   "id": "6f827dff",
   "metadata": {},
   "outputs": [],
   "source": [
    "def sum_three(x, y, z):\n",
    "    if x == y or y == z or x == z:\n",
    "        sum = 0\n",
    "    else:\n",
    "        sum = x + y + z\n",
    "        return sum\n",
    "    int(sum_three(2, 1, 2))\n",
    "    int(sum_three(3, 2, 2))\n",
    "    int(sum_three(2, 2, 2))\n",
    "    int(sum_three(1, 2, 3))"
   ]
  },
  {
   "cell_type": "markdown",
   "id": "08f026d1",
   "metadata": {},
   "source": [
    "2.Write a Python program to test whether a passed letter is a vowel or not.\n"
   ]
  },
  {
   "cell_type": "code",
   "execution_count": 2,
   "id": "153af7a4",
   "metadata": {},
   "outputs": [
    {
     "name": "stdout",
     "output_type": "stream",
     "text": [
      "enter character:u\n",
      "the character'u'is a vowel\n"
     ]
    }
   ],
   "source": [
    "character = input(\"enter character:\")\n",
    "vowels = ['a','e','i','o','u']\n",
    "if character in vowels:\n",
    "    print(f\"the character'{character}'is a vowel\") \n"
   ]
  },
  {
   "cell_type": "markdown",
   "id": "1ddedbc0",
   "metadata": {},
   "source": [
    "3.Write python program that swap two number with temp variable and without temp variable.\n"
   ]
  },
  {
   "cell_type": "code",
   "execution_count": 3,
   "id": "cada6179",
   "metadata": {},
   "outputs": [
    {
     "name": "stdout",
     "output_type": "stream",
     "text": [
      "enter first number: 11\n",
      "enter second number: 22\n",
      "old value of int1 is 11 and int2 is 22\n"
     ]
    }
   ],
   "source": [
    "int1 = int(input(\"enter first number: \"))\n",
    "int2 = int(input(\"enter second number: \"))\n",
    "print('old value of int1 is {0} and int2 is {1}'.format(int1, int2))"
   ]
  },
  {
   "cell_type": "markdown",
   "id": "9a31df27",
   "metadata": {},
   "source": [
    "4.Write a Python program to calculate the length of a string.\n"
   ]
  },
  {
   "cell_type": "code",
   "execution_count": 1,
   "id": "1c0195a7",
   "metadata": {},
   "outputs": [
    {
     "data": {
      "text/plain": [
       "13"
      ]
     },
     "execution_count": 1,
     "metadata": {},
     "output_type": "execute_result"
    }
   ],
   "source": [
    "s = (\"hello eduonix\")\n",
    "len (s)"
   ]
  },
  {
   "cell_type": "markdown",
   "id": "e4ea4334",
   "metadata": {},
   "source": [
    "5.Write a Python program to find whether a given number is even or odd,print out an appropriate message to the user.\n"
   ]
  },
  {
   "cell_type": "code",
   "execution_count": 8,
   "id": "be08ba3d",
   "metadata": {},
   "outputs": [
    {
     "name": "stdout",
     "output_type": "stream",
     "text": [
      "enter a number: 4\n",
      "4 is even\n"
     ]
    }
   ],
   "source": [
    "# a python program to check the number is even if division by 2 gives a remainder of 0\n",
    "# the number is odd if division by 2 gives a remainder of 1\n",
    "\n",
    "num = int(input(\"enter a number: \"))\n",
    "if (num % 2) == 0:\n",
    "    print(\"{0} is even\".format(num))\n",
    "else:\n",
    "    print(\"{0} is odd\".format(num))"
   ]
  },
  {
   "cell_type": "markdown",
   "id": "b89bc324",
   "metadata": {},
   "source": [
    "6.write a programme to find biggest number of given three values"
   ]
  },
  {
   "cell_type": "code",
   "execution_count": 12,
   "id": "b8f4312b",
   "metadata": {},
   "outputs": [
    {
     "name": "stdout",
     "output_type": "stream",
     "text": [
      "the largest number is 34\n"
     ]
    }
   ],
   "source": [
    "num1 = 5\n",
    "num2 = 12\n",
    "num3 = 34\n",
    "\n",
    "if (num1 >= num2) and (num1 >= num3):\n",
    "    largest = num1\n",
    "elif (num2 >= num1) and (num2 >= num3):\n",
    "    largest = num2\n",
    "else:\n",
    "    largest = num3\n",
    "    print(\"the largest number is\", largest)"
   ]
  },
  {
   "cell_type": "markdown",
   "id": "7373fabb",
   "metadata": {},
   "source": [
    "7.Write a Python program that will return true if the two given integer values are equal or their sum or difference is 5."
   ]
  },
  {
   "cell_type": "code",
   "execution_count": 30,
   "id": "ebfd3ea1",
   "metadata": {},
   "outputs": [
    {
     "ename": "NameError",
     "evalue": "name 'test_number5' is not defined",
     "output_type": "error",
     "traceback": [
      "\u001b[1;31m---------------------------------------------------------------------------\u001b[0m",
      "\u001b[1;31mNameError\u001b[0m                                 Traceback (most recent call last)",
      "Cell \u001b[1;32mIn[30], line 6\u001b[0m\n\u001b[0;32m      4\u001b[0m     \u001b[38;5;28;01melse\u001b[39;00m:\n\u001b[0;32m      5\u001b[0m         \u001b[38;5;28;01mreturn\u001b[39;00m false\n\u001b[1;32m----> 6\u001b[0m \u001b[38;5;28mprint\u001b[39m(test_number5(\u001b[38;5;241m7\u001b[39m, \u001b[38;5;241m2\u001b[39m))\n",
      "\u001b[1;31mNameError\u001b[0m: name 'test_number5' is not defined"
     ]
    }
   ],
   "source": [
    "def test_numbers5(x, y):\n",
    "    if x == y or abs(x-y) == 5 or (x+y) == 5:\n",
    "        return true\n",
    "    else:\n",
    "        return false\n",
    "print(test_number5(7, 2))"
   ]
  },
  {
   "cell_type": "markdown",
   "id": "311e6565",
   "metadata": {},
   "source": [
    "8.Write a python program to sum of the first n positive integers."
   ]
  },
  {
   "cell_type": "code",
   "execution_count": 3,
   "id": "7e8b7a68",
   "metadata": {},
   "outputs": [
    {
     "name": "stdout",
     "output_type": "stream",
     "text": [
      "enter a positive integer: 5\n",
      "the sum of the first 5 positive integers 15.0\n"
     ]
    }
   ],
   "source": [
    "n = int(input(\"enter a positive integer: \"))\n",
    "total = n * (n+1) / 2\n",
    "print(\"the sum of the first\",n,\"positive integers\",total)"
   ]
  },
  {
   "cell_type": "markdown",
   "id": "159c1024",
   "metadata": {},
   "source": [
    "9 Write a Python program to calculate the length of a string.\n"
   ]
  },
  {
   "cell_type": "code",
   "execution_count": 3,
   "id": "42e61563",
   "metadata": {},
   "outputs": [
    {
     "data": {
      "text/plain": [
       "7"
      ]
     },
     "execution_count": 3,
     "metadata": {},
     "output_type": "execute_result"
    }
   ],
   "source": [
    "s = (\"prayuta\")\n",
    "len (s)"
   ]
  },
  {
   "cell_type": "markdown",
   "id": "f9dc7e2e",
   "metadata": {},
   "source": [
    "10 What is the purpose continue statement in python?\n"
   ]
  },
  {
   "cell_type": "code",
   "execution_count": null,
   "id": "b6228a29",
   "metadata": {},
   "outputs": [],
   "source": [
    "The continue statement in python returns the control to beginning of while loop. It rejects all the remaining ststement in the \n",
    "current iteration of the loop and moves the control back to the top of the loop."
   ]
  },
  {
   "cell_type": "markdown",
   "id": "b99d7437",
   "metadata": {},
   "source": [
    "11 Write a Python program to add 'ing' at the end of a given string (length should be at least 3). If the given string \n",
    "already ends with 'ing' then add 'ly' instead if the string length of the given string is less than 3, leave it unchanged.\n"
   ]
  },
  {
   "cell_type": "code",
   "execution_count": 6,
   "id": "06383b07",
   "metadata": {},
   "outputs": [
    {
     "name": "stdout",
     "output_type": "stream",
     "text": [
      "fly\n",
      "flying\n"
     ]
    }
   ],
   "source": [
    "string = input()\n",
    "if len(string) < 3:\n",
    "    print(string)\n",
    "elif string[-3:] == 'ing':\n",
    "    print(string + 'ly')\n",
    "else:\n",
    "    print(string + 'ing')"
   ]
  },
  {
   "cell_type": "markdown",
   "id": "75c5e994",
   "metadata": {},
   "source": [
    "12 Write a Python program to find the first appearance of the substring 'not' and 'poor' from a given string, if 'not'\n",
    "follows the 'poor', replace the whole 'not'...'poor' substring with 'good'. Return the resulting string\n"
   ]
  },
  {
   "cell_type": "code",
   "execution_count": 22,
   "id": "1f7eeec1",
   "metadata": {},
   "outputs": [
    {
     "name": "stdout",
     "output_type": "stream",
     "text": [
      "the lyrics is good!\n",
      "the lyrics is poor!\n"
     ]
    }
   ],
   "source": [
    "def not_poor(str1):\n",
    "    snot = str1.find('not')\n",
    "    spoor = str1.find('poor')\n",
    "    \n",
    "    if spoor > snot and snot>0 and spoor>0:\n",
    "        str1 = str1.replace(str1[snot:(spoor+4)], 'good')\n",
    "        return str1\n",
    "    else:\n",
    "        return str1\n",
    "print(not_poor('the lyrics is not that poor!'))\n",
    "print(not_poor('the lyrics is poor!'))"
   ]
  },
  {
   "cell_type": "markdown",
   "id": "f858df7b",
   "metadata": {},
   "source": [
    "13 Write a Python function to insert a string in the middle of a string.\n"
   ]
  },
  {
   "cell_type": "code",
   "execution_count": 10,
   "id": "9169958d",
   "metadata": {},
   "outputs": [],
   "source": [
    "def insert_string_in_middle(orig_string,insert_string):\n",
    "    mid = len(orig_string)//2\n",
    "    return orig_string[:mid]+insert_string+orig_string[mid:]"
   ]
  },
  {
   "cell_type": "code",
   "execution_count": 12,
   "id": "51073efe",
   "metadata": {},
   "outputs": [
    {
     "data": {
      "text/plain": [
       "'pytcodinghon'"
      ]
     },
     "execution_count": 12,
     "metadata": {},
     "output_type": "execute_result"
    }
   ],
   "source": [
    "insert_string_in_middle(\"hello\",\"world\")\n",
    "insert_string_in_middle(\"python\",\"coding\")\n"
   ]
  },
  {
   "cell_type": "markdown",
   "id": "86da2706",
   "metadata": {},
   "source": [
    "14 reverses a string if its length is a multiple of 4."
   ]
  },
  {
   "cell_type": "code",
   "execution_count": 8,
   "id": "f67b44e7",
   "metadata": {},
   "outputs": [
    {
     "data": {
      "text/plain": [
       "8"
      ]
     },
     "execution_count": 8,
     "metadata": {},
     "output_type": "execute_result"
    }
   ],
   "source": [
    "my_object = 'computer'\n",
    "len(my_object)"
   ]
  },
  {
   "cell_type": "code",
   "execution_count": 10,
   "id": "bc3d328c",
   "metadata": {},
   "outputs": [
    {
     "data": {
      "text/plain": [
       "'retupmoc'"
      ]
     },
     "execution_count": 10,
     "metadata": {},
     "output_type": "execute_result"
    }
   ],
   "source": [
    "my_object[::-1]"
   ]
  },
  {
   "cell_type": "markdown",
   "id": "94d277a9",
   "metadata": {},
   "source": [
    "15 Write a Python program to get a string made of the first 2 and the last 2 chars from a given a string.\n",
    "If the string length is less than 2, return instead of the empty string."
   ]
  },
  {
   "cell_type": "code",
   "execution_count": 42,
   "id": "ec91ca17",
   "metadata": {},
   "outputs": [
    {
     "data": {
      "text/plain": [
       "11"
      ]
     },
     "execution_count": 42,
     "metadata": {},
     "output_type": "execute_result"
    }
   ],
   "source": [
    "s = '2,4,6,8,1,2'\n",
    "len(s)"
   ]
  },
  {
   "cell_type": "code",
   "execution_count": 43,
   "id": "ae6de504",
   "metadata": {},
   "outputs": [
    {
     "data": {
      "text/plain": [
       "',4'"
      ]
     },
     "execution_count": 43,
     "metadata": {},
     "output_type": "execute_result"
    }
   ],
   "source": [
    "s[1:3]"
   ]
  },
  {
   "cell_type": "code",
   "execution_count": 44,
   "id": "3a0ba1d6",
   "metadata": {},
   "outputs": [
    {
     "data": {
      "text/plain": [
       "',2'"
      ]
     },
     "execution_count": 44,
     "metadata": {},
     "output_type": "execute_result"
    }
   ],
   "source": [
    "s[-2::]"
   ]
  },
  {
   "cell_type": "markdown",
   "id": "141164ac",
   "metadata": {},
   "source": [
    "16 Write a Python program to get a single string from two given strings, separated by a space and swap the first two \n",
    "characters of each string.\n"
   ]
  },
  {
   "cell_type": "code",
   "execution_count": 16,
   "id": "ba73e2b1",
   "metadata": {},
   "outputs": [
    {
     "name": "stdout",
     "output_type": "stream",
     "text": [
      "before swap : coding   python\n",
      "after swap : pyding   cothon\n"
     ]
    }
   ],
   "source": [
    "a = 'coding'\n",
    "b = 'python'\n",
    "print(\"before swap :\",a,\" \",b)\n",
    "a1 = b[:2] + a[2:]\n",
    "b1 = a[:2] + b[2:]\n",
    "print(\"after swap :\",a1,\" \",b1)"
   ]
  },
  {
   "cell_type": "markdown",
   "id": "74238ddb",
   "metadata": {},
   "source": [
    "17 Write a Python program to get the Fibonacci series of given range."
   ]
  },
  {
   "cell_type": "code",
   "execution_count": 11,
   "id": "ba16ba5e",
   "metadata": {},
   "outputs": [
    {
     "name": "stdout",
     "output_type": "stream",
     "text": [
      "1 2 3 5 8 13 21 34 55 89 "
     ]
    }
   ],
   "source": [
    "n = 10\n",
    "num1 = 0\n",
    "num2 = 1\n",
    "next_number = num2\n",
    "count = 1\n",
    "while count <= n:\n",
    "    print(next_number, end=\" \")\n",
    "    count += 1\n",
    "    num1, num2, = num2, next_number\n",
    "    next_number = num1 + num2"
   ]
  },
  {
   "cell_type": "markdown",
   "id": "ab5aa7d0",
   "metadata": {},
   "source": [
    "18 Write a Python program to get the Factorial number of given number\n"
   ]
  },
  {
   "cell_type": "code",
   "execution_count": 4,
   "id": "3a633e1f",
   "metadata": {},
   "outputs": [
    {
     "name": "stdout",
     "output_type": "stream",
     "text": [
      "the factorial of 7 is 5040\n"
     ]
    }
   ],
   "source": [
    "num = 7\n",
    "factorial = 1\n",
    "if num < 0:\n",
    "    print(\"factorial does not exist for negtive numbers\")\n",
    "elif num == 0:\n",
    "    print(\"the factorial of 0 is 1\")\n",
    "else:\n",
    "    for i in range(1 ,num + 1):\n",
    "        factorial = factorial*i\n",
    "    print(\"the factorial of\",num,\"is\",factorial)    "
   ]
  },
  {
   "cell_type": "markdown",
   "id": "7ee80fed",
   "metadata": {},
   "source": [
    "19 Write a Python program to check if a number is positive, negative or zero\n"
   ]
  },
  {
   "cell_type": "code",
   "execution_count": 21,
   "id": "a47f6edb",
   "metadata": {},
   "outputs": [],
   "source": [
    "def check(n):\n",
    "    if n > 0:\n",
    "        print(\"positive\")\n",
    "    elif n < 0:\n",
    "        print(\"negative\")\n",
    "    else:\n",
    "        print(\"equal to zero\")\n",
    "        \n"
   ]
  },
  {
   "cell_type": "code",
   "execution_count": 22,
   "id": "0a9788df",
   "metadata": {},
   "outputs": [
    {
     "name": "stdout",
     "output_type": "stream",
     "text": [
      "positive\n"
     ]
    }
   ],
   "source": [
    "check(5)"
   ]
  },
  {
   "cell_type": "code",
   "execution_count": 23,
   "id": "20c100e0",
   "metadata": {},
   "outputs": [
    {
     "name": "stdout",
     "output_type": "stream",
     "text": [
      "negative\n"
     ]
    }
   ],
   "source": [
    "check(-5)"
   ]
  },
  {
   "cell_type": "code",
   "execution_count": 24,
   "id": "4c4eab7f",
   "metadata": {},
   "outputs": [
    {
     "name": "stdout",
     "output_type": "stream",
     "text": [
      "equal to zero\n"
     ]
    }
   ],
   "source": [
    "check(0)"
   ]
  },
  {
   "cell_type": "markdown",
   "id": "6314147d",
   "metadata": {},
   "source": [
    "20  How memory is managed in Python?"
   ]
  },
  {
   "cell_type": "code",
   "execution_count": null,
   "id": "5032001a",
   "metadata": {},
   "outputs": [],
   "source": [
    "Python uses the dynamic memory allocation which is managed by the heap data structure.Memory Heap holds the objects and \n",
    "other data structure and will be used in the program.pyhon memory managerbmanages the allocation or de_allocation of the\n",
    "heap memory space through the API functions."
   ]
  },
  {
   "cell_type": "code",
   "execution_count": null,
   "id": "9a3ef529",
   "metadata": {},
   "outputs": [],
   "source": [
    " When x = 10 is executed an intiger object 10 is created in memory and its reference is assigned to variable x,\n",
    "this is because everything is object in python,let's verify if it's true"
   ]
  },
  {
   "cell_type": "code",
   "execution_count": 32,
   "id": "1aa60b14",
   "metadata": {},
   "outputs": [
    {
     "name": "stdout",
     "output_type": "stream",
     "text": [
      "x and y refer to the same object\n"
     ]
    }
   ],
   "source": [
    "x = 10\n",
    "y = x\n",
    "if id(x) == id(y):\n",
    "    print(\"x and y refer to the same object\")"
   ]
  }
 ],
 "metadata": {
  "kernelspec": {
   "display_name": "Python 3 (ipykernel)",
   "language": "python",
   "name": "python3"
  },
  "language_info": {
   "codemirror_mode": {
    "name": "ipython",
    "version": 3
   },
   "file_extension": ".py",
   "mimetype": "text/x-python",
   "name": "python",
   "nbconvert_exporter": "python",
   "pygments_lexer": "ipython3",
   "version": "3.11.4"
  }
 },
 "nbformat": 4,
 "nbformat_minor": 5
}
